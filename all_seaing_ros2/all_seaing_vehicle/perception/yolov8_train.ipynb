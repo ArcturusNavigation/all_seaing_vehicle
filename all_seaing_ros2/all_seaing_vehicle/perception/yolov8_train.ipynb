{
 "cells": [
  {
   "cell_type": "code",
   "execution_count": null,
   "metadata": {},
   "outputs": [],
   "source": [
    "\"\"\"\n",
    "Train the model using Yolov8 and Roboflow\n",
    "\n",
    "Reference: https://blog.roboflow.com/how-to-train-yolov8-on-a-custom-dataset/\n",
    "\"\"\""
   ]
  },
  {
   "cell_type": "code",
   "execution_count": 1,
   "metadata": {},
   "outputs": [
    {
     "name": "stdout",
     "output_type": "stream",
     "text": [
      "Ultralytics YOLOv8.0.232 🚀 Python-3.10.12 torch-2.2.0+cu121 CPU (AMD Ryzen 9 6900HS with Radeon Graphics)\n",
      "Setup complete ✅ (16 CPUs, 14.9 GB RAM, 77.9/97.5 GB disk)\n",
      "None\n"
     ]
    }
   ],
   "source": [
    "# if not installed run: pip install ultralytics\n",
    "import ultralytics\n",
    "print(ultralytics.checks())"
   ]
  },
  {
   "cell_type": "code",
   "execution_count": 5,
   "metadata": {},
   "outputs": [
    {
     "name": "stdout",
     "output_type": "stream",
     "text": [
      "loading Roboflow workspace...\n",
      "loading Roboflow project...\n",
      "Dependency ultralytics==8.0.196 is required but found version=8.0.232, to fix: `pip install ultralytics==8.0.196`\n"
     ]
    },
    {
     "name": "stderr",
     "output_type": "stream",
     "text": [
      "Downloading Dataset Version Zip in Buoy-Labeling-Full-1 to yolov8:: 100%|██████████| 15631/15631 [00:02<00:00, 7681.86it/s]"
     ]
    },
    {
     "name": "stdout",
     "output_type": "stream",
     "text": [
      "\n"
     ]
    },
    {
     "name": "stderr",
     "output_type": "stream",
     "text": [
      "\n",
      "Extracting Dataset Version Zip to Buoy-Labeling-Full-1 in yolov8:: 100%|██████████| 2006/2006 [00:00<00:00, 11454.81it/s]\n"
     ]
    }
   ],
   "source": [
    "# if not installed run: pip install roboflow\n",
    "# if you have a weird 'appengine' error run this: pip install urllib3==2.0.7\n",
    "# other errors, run through chat gpt\n",
    "# this was copied from exporting the dataset on roboflow with 'yolov8'\n",
    "\n",
    "from roboflow import Roboflow\n",
    "\n",
    "rf = Roboflow(api_key=\"tG58USi1UKOd6l1rkJEw\") # Private Key for Team\n",
    "project = rf.workspace(\"arcturus-gx59n\").project(\"buoy-labeling-full\")\n",
    "version = project.version(1)\n",
    "dataset = version.download(\"yolov8\")"
   ]
  },
  {
   "cell_type": "code",
   "execution_count": null,
   "metadata": {},
   "outputs": [],
   "source": [
    "# Run the training of the model with the correct location to the data.yaml and custom settings (could take a while)\n",
    "# This assumes data folder is in perception folder and this document is in perception folder\n",
    "data_folder = 'Buoy-Labeling-Full-1'\n",
    "\n",
    "imgsz = 640\n",
    "\n",
    "model= 'yolov8n.pt' # the other models are too big\n",
    "\n",
    "# ! symbol lets you run command line interface commands (terminal commands) \n",
    "# Run this in command line if you get errors\n",
    "# replace data.location with the name of the file folder\n",
    "# WARNING: This will take a while and consume a lot of computer resources\n",
    "!yolo task=detect mode=train model=yolov8n.pt data={data.location}/data.yaml epochs=25 imgsz=640 plots=True\n"
   ]
  }
 ],
 "metadata": {
  "kernelspec": {
   "display_name": "Python 3",
   "language": "python",
   "name": "python3"
  },
  "language_info": {
   "codemirror_mode": {
    "name": "ipython",
    "version": 3
   },
   "file_extension": ".py",
   "mimetype": "text/x-python",
   "name": "python",
   "nbconvert_exporter": "python",
   "pygments_lexer": "ipython3",
   "version": "3.10.12"
  }
 },
 "nbformat": 4,
 "nbformat_minor": 2
}
