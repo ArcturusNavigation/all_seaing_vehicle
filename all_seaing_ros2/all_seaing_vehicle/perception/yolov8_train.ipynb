{
 "cells": [
  {
   "cell_type": "code",
   "execution_count": null,
   "metadata": {},
   "outputs": [],
   "source": [
    "\"\"\"\n",
    "Train the model using Yolov8 and Roboflow\n",
    "\n",
    "Reference: https://blog.roboflow.com/how-to-train-yolov8-on-a-custom-dataset/\n",
    "\"\"\""
   ]
  },
  {
   "cell_type": "code",
   "execution_count": 1,
   "metadata": {},
   "outputs": [
    {
     "name": "stdout",
     "output_type": "stream",
     "text": [
      "Ultralytics YOLOv8.0.232 🚀 Python-3.10.12 torch-2.2.0+cu121 CPU (AMD Ryzen 9 6900HS with Radeon Graphics)\n",
      "Setup complete ✅ (16 CPUs, 14.9 GB RAM, 77.9/97.5 GB disk)\n",
      "None\n"
     ]
    }
   ],
   "source": [
    "# if not installed run: pip install ultralytics\n",
    "import ultralytics\n",
    "print(ultralytics.checks())"
   ]
  },
  {
   "cell_type": "code",
   "execution_count": null,
   "metadata": {},
   "outputs": [],
   "source": [
    "from ultralytics import YOLO\n",
    "\n",
    "# this is a small test\n",
    "\n",
    "model = YOLO('yolov8n.pt')\n",
    "model.predict(\n",
    "   source='https://media.roboflow.com/notebooks/examples/dog.jpeg',\n",
    "   conf=0.25\n",
    ")\n",
    "\n",
    "model.train()"
   ]
  },
  {
   "cell_type": "code",
   "execution_count": 5,
   "metadata": {},
   "outputs": [
    {
     "name": "stdout",
     "output_type": "stream",
     "text": [
      "loading Roboflow workspace...\n",
      "loading Roboflow project...\n",
      "Dependency ultralytics==8.0.196 is required but found version=8.0.232, to fix: `pip install ultralytics==8.0.196`\n"
     ]
    },
    {
     "name": "stderr",
     "output_type": "stream",
     "text": [
      "Downloading Dataset Version Zip in Buoy-Labeling-Full-1 to yolov8:: 100%|██████████| 15631/15631 [00:02<00:00, 7681.86it/s]"
     ]
    },
    {
     "name": "stdout",
     "output_type": "stream",
     "text": [
      "\n"
     ]
    },
    {
     "name": "stderr",
     "output_type": "stream",
     "text": [
      "\n",
      "Extracting Dataset Version Zip to Buoy-Labeling-Full-1 in yolov8:: 100%|██████████| 2006/2006 [00:00<00:00, 11454.81it/s]\n"
     ]
    }
   ],
   "source": [
    "# if not installed run: pip install roboflow\n",
    "# if you have a weird 'appengine' error run this: pip install urllib3==2.0.7\n",
    "# other errors, run through chat gpt\n",
    "# this was copied from exporting the dataset on roboflow with 'yolov8'\n",
    "\n",
    "from roboflow import Roboflow\n",
    "\n",
    "rf = Roboflow(api_key=\"tG58USi1UKOd6l1rkJEw\") # Private Key for Team\n",
    "project = rf.workspace(\"arcturus-gx59n\").project(\"buoy-labeling-full\")\n",
    "version = project.version(1)\n",
    "dataset = version.download(\"yolov8\")"
   ]
  },
  {
   "cell_type": "code",
   "execution_count": 6,
   "metadata": {},
   "outputs": [
    {
     "name": "stdout",
     "output_type": "stream",
     "text": [
      "/home/arthurdls/.local/lib/python3.10/site-packages/matplotlib/projections/__init__.py:63: UserWarning: Unable to import Axes3D. This may be due to multiple versions of Matplotlib being installed (e.g. as a system package and as a pip package). As a result, the 3D projection is not available.\n",
      "  warnings.warn(\"Unable to import Axes3D. This may be due to multiple versions of \"\n",
      "/usr/lib/python3/dist-packages/requests/__init__.py:87: RequestsDependencyWarning: urllib3 (2.0.7) or chardet (4.0.0) doesn't match a supported version!\n",
      "  warnings.warn(\"urllib3 ({}) or chardet ({}) doesn't match a supported \"\n",
      "Downloading https://github.com/ultralytics/assets/releases/download/v0.0.0/yolov8s.pt to 'yolov8s.pt'...\n",
      "100%|██████████████████████████████████████| 21.5M/21.5M [00:01<00:00, 14.3MB/s]\n",
      "New https://pypi.org/project/ultralytics/8.1.21 available 😃 Update with 'pip install -U ultralytics'\n",
      "Ultralytics YOLOv8.0.232 🚀 Python-3.10.12 torch-2.2.0+cu121 CPU (AMD Ryzen 9 6900HS with Radeon Graphics)\n",
      "\u001b[34m\u001b[1mengine/trainer: \u001b[0mtask=detect, mode=train, model=yolov8s.pt, data=./Buoy-Labeling-Full-1/data.yaml, epochs=25, time=None, patience=50, batch=16, imgsz=800, save=True, save_period=-1, cache=False, device=None, workers=8, project=None, name=train, exist_ok=False, pretrained=True, optimizer=auto, verbose=True, seed=0, deterministic=True, single_cls=False, rect=False, cos_lr=False, close_mosaic=10, resume=False, amp=True, fraction=1.0, profile=False, freeze=None, overlap_mask=True, mask_ratio=4, dropout=0.0, val=True, split=val, save_json=False, save_hybrid=False, conf=None, iou=0.7, max_det=300, half=False, dnn=False, plots=True, source=None, vid_stride=1, stream_buffer=False, visualize=False, augment=False, agnostic_nms=False, classes=None, retina_masks=False, embed=None, show=False, save_frames=False, save_txt=False, save_conf=False, save_crop=False, show_labels=True, show_conf=True, show_boxes=True, line_width=None, format=torchscript, keras=False, optimize=False, int8=False, dynamic=False, simplify=False, opset=None, workspace=4, nms=False, lr0=0.01, lrf=0.01, momentum=0.937, weight_decay=0.0005, warmup_epochs=3.0, warmup_momentum=0.8, warmup_bias_lr=0.1, box=7.5, cls=0.5, dfl=1.5, pose=12.0, kobj=1.0, label_smoothing=0.0, nbs=64, hsv_h=0.015, hsv_s=0.7, hsv_v=0.4, degrees=0.0, translate=0.1, scale=0.5, shear=0.0, perspective=0.0, flipud=0.0, fliplr=0.5, mosaic=1.0, mixup=0.0, copy_paste=0.0, cfg=None, tracker=botsort.yaml, save_dir=runs/detect/train\n",
      "Traceback (most recent call last):\n",
      "  File \"/home/arthurdls/.local/lib/python3.10/site-packages/ultralytics/engine/trainer.py\", line 116, in __init__\n",
      "    self.data = check_det_dataset(self.args.data)\n",
      "  File \"/home/arthurdls/.local/lib/python3.10/site-packages/ultralytics/data/utils.py\", line 312, in check_det_dataset\n",
      "    raise FileNotFoundError(m)\n",
      "FileNotFoundError: \n",
      "Dataset 'Buoy-Labeling-Full-1/data.yaml' images not found ⚠️, missing path '/home/arthurdls/arcturus/dev_ws/src/all_seaing_vehicle/all_seaing_ros2/all_seaing_vehicle/perception/datasets/Buoy-Labeling-Full-1/Buoy-Labeling-Full-1/valid/images'\n",
      "Note dataset download directory is '/home/arthurdls/arcturus/dev_ws/src/all_seaing_vehicle/all_seaing_ros2/all_seaing_vehicle/perception/datasets'. You can update this in '/home/arthurdls/.config/Ultralytics/settings.yaml'\n",
      "\n",
      "The above exception was the direct cause of the following exception:\n",
      "\n",
      "Traceback (most recent call last):\n",
      "  File \"/home/arthurdls/.local/bin/yolo\", line 8, in <module>\n",
      "    sys.exit(entrypoint())\n",
      "  File \"/home/arthurdls/.local/lib/python3.10/site-packages/ultralytics/cfg/__init__.py\", line 448, in entrypoint\n",
      "    getattr(model, mode)(**overrides)  # default args from model\n",
      "  File \"/home/arthurdls/.local/lib/python3.10/site-packages/ultralytics/engine/model.py\", line 351, in train\n",
      "    self.trainer = (trainer or self._smart_load('trainer'))(overrides=args, _callbacks=self.callbacks)\n",
      "  File \"/home/arthurdls/.local/lib/python3.10/site-packages/ultralytics/engine/trainer.py\", line 120, in __init__\n",
      "    raise RuntimeError(emojis(f\"Dataset '{clean_url(self.args.data)}' error ❌ {e}\")) from e\n",
      "RuntimeError: Dataset 'Buoy-Labeling-Full-1/data.yaml' error ❌ \n",
      "Dataset 'Buoy-Labeling-Full-1/data.yaml' images not found ⚠️, missing path '/home/arthurdls/arcturus/dev_ws/src/all_seaing_vehicle/all_seaing_ros2/all_seaing_vehicle/perception/datasets/Buoy-Labeling-Full-1/Buoy-Labeling-Full-1/valid/images'\n",
      "Note dataset download directory is '/home/arthurdls/arcturus/dev_ws/src/all_seaing_vehicle/all_seaing_ros2/all_seaing_vehicle/perception/datasets'. You can update this in '/home/arthurdls/.config/Ultralytics/settings.yaml'\n"
     ]
    }
   ],
   "source": [
    "# Run the training of the model with the correct location to the data.yaml and custom settings (could take a while)\n",
    "# This assumes data folder is in perception folder and this document is in perception folder\n",
    "data_folder = 'Buoy-Labeling-Full-1'\n",
    "\n",
    "# ! symbol lets you run command line interface commands (terminal commands) \n",
    "# Run this in command line if you get errors\n",
    "!yolo task=detect mode=train model=yolov8s.pt data={data.location}/data.yaml epochs=25 imgsz=800 plots=True\n"
   ]
  }
 ],
 "metadata": {
  "kernelspec": {
   "display_name": "Python 3",
   "language": "python",
   "name": "python3"
  },
  "language_info": {
   "codemirror_mode": {
    "name": "ipython",
    "version": 3
   },
   "file_extension": ".py",
   "mimetype": "text/x-python",
   "name": "python",
   "nbconvert_exporter": "python",
   "pygments_lexer": "ipython3",
   "version": "3.10.12"
  }
 },
 "nbformat": 4,
 "nbformat_minor": 2
}
